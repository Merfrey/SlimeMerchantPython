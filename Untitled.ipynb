{
 "cells": [
  {
   "cell_type": "code",
   "execution_count": 49,
   "id": "d943baee",
   "metadata": {},
   "outputs": [
    {
     "name": "stdout",
     "output_type": "stream",
     "text": [
      "     Name  Health  Damage  Weight  Value\n",
      "0   Apple       8       2       1      3\n",
      "1    Mead       7       4       3      5\n",
      "2  Cheese       8       3       2      7\n",
      "3   Bread      10       4       4      9\n"
     ]
    }
   ],
   "source": [
    "import pandas as pd\n",
    "import random\n",
    "from pathlib import Path\n",
    "import csv\n",
    "\n",
    "\n",
    "# Files to load\n",
    "item_info = Path(\"Resources/ItemValues.csv\")\n",
    "\n",
    "# Reads the data file and stores it into Pandas DataFrame\n",
    "df = pd.read_csv(item_info, sep = ',')\n",
    "#print(df)"
   ]
  },
  {
   "cell_type": "code",
   "execution_count": 7,
   "id": "b03f02ee",
   "metadata": {},
   "outputs": [
    {
     "data": {
      "text/plain": [
       "'You awaken in front of CityA.'"
      ]
     },
     "execution_count": 7,
     "metadata": {},
     "output_type": "execute_result"
    }
   ],
   "source": [
    "#starts game\n",
    "\n",
    "# Generate a random element from a list\n",
    "my_list = [\"CityA\", \"CityB\", \"CityC\", \"CityD\"]\n",
    "cityOutput = random.choice(my_list)\n",
    "\"You awaken in front of \" + cityOutput + \".\""
   ]
  },
  {
   "cell_type": "code",
   "execution_count": 8,
   "id": "896cb316",
   "metadata": {},
   "outputs": [
    {
     "data": {
      "text/plain": [
       "'Choice what to do: A) Enter the city. B. Travel to a different city.'"
      ]
     },
     "execution_count": 8,
     "metadata": {},
     "output_type": "execute_result"
    }
   ],
   "source": [
    "\"Choice what to do: A) Enter the city. B. Travel to a different city.\""
   ]
  },
  {
   "cell_type": "code",
   "execution_count": 21,
   "id": "985b5a4e",
   "metadata": {},
   "outputs": [
    {
     "name": "stdout",
     "output_type": "stream",
     "text": [
      "A\n",
      "You entered CityA\n"
     ]
    }
   ],
   "source": [
    "keyboard = input()\n",
    "if keyboard == \"A\":\n",
    "    print (\"You entered \"+ cityOutput);\n",
    "else:\n",
    "    print (\"you traveled somewhere else.\");"
   ]
  },
  {
   "cell_type": "code",
   "execution_count": 23,
   "id": "65999682",
   "metadata": {
    "scrolled": true
   },
   "outputs": [
    {
     "data": {
      "text/plain": [
       "\"Which do you approach? (A. The Tavern, B. The Slime Merchant's Stall, C. The Barracks.)\""
      ]
     },
     "execution_count": 23,
     "metadata": {},
     "output_type": "execute_result"
    }
   ],
   "source": [
    "\"There is a Tavern, some Barracks, and a merchant stall manned by a Slime.\"\n",
    "\"Which do you approach? (A. The Tavern, B. The Slime Merchant's Stall, C. The Barracks.)\""
   ]
  },
  {
   "cell_type": "code",
   "execution_count": 58,
   "id": "20a249cb",
   "metadata": {},
   "outputs": [
    {
     "name": "stdout",
     "output_type": "stream",
     "text": [
      "Apples\n",
      "You want to look at the Apples\n",
      "{'Name': 'Apple', 'Health': 8, 'Damage': 2, 'Weight': 1, 'Value': 3}\n"
     ]
    }
   ],
   "source": [
    "def item_choice():\n",
    "    print (\"These are my wares. Apples, Cheese, Bread, and Mead. Which do you want to look at?\");\n",
    "keyboard= input()\n",
    "choice = keyboard;\n",
    "if keyboard == \"Apples\":\n",
    "    print (\"You want to look at the\" + \" \" + choice);\n",
    "    itemList = df.to_dict('index');\n",
    "    print(itemList[0])\n"
   ]
  },
  {
   "cell_type": "code",
   "execution_count": null,
   "id": "60ac71de",
   "metadata": {},
   "outputs": [],
   "source": [
    "# Define the function\n",
    "def status(A):\n",
    "# \n",
    "print \"You entered the Tavern.\"\n",
    "print\"You approach the barkeep and ask what he sells.\"\n",
    "\n",
    "else:\n",
    "    print (\"you traveled somewhere else.\");\n",
    "\n",
    "\n",
    "        case A:\n",
    "            return status\n",
    "        case 404:\n",
    "            return \"Not found\"\n",
    "        case 418:\n",
    "            return \"I'm a teapot\"\n",
    "\n",
    "        # If an exact match is not confirmed, this last case will be used if provided\n",
    "        case _:\n",
    "            return \"Something's wrong with the internet\"\n",
    "\n",
    "\n",
    "return \n",
    "\n",
    "# Call the function and store the result in a variable\n",
    "result = add(5, 10)\n",
    "\n",
    "# Print the result\n",
    "print(result)"
   ]
  },
  {
   "cell_type": "code",
   "execution_count": null,
   "id": "30dab098",
   "metadata": {},
   "outputs": [],
   "source": [
    "# Define the function\n",
    "def merchant(B):\n",
    "# \n",
    "print \"You entered the Merchant's stall.\"\n",
    "print\"You ask the bobing slime what he sells.\"\n",
    "print\"The slime says 'Many things. I can sell you a Vehicle, let you use my Portal for a price, Rumors, and Items.'\"\n",
    "keyboard= input()\n",
    "choice = keyboard;\n",
    "if keyboard == \"Items\":\n",
    "    print (\"You want to look at the Slime's\" + \" \" + choice);\n",
    "    return item_choice;\n",
    "else:\n",
    "    print (\"you traveled somewhere else.\");\n",
    "\n",
    "\n",
    "        case A:\n",
    "            return status\n",
    "        case 404:\n",
    "            return \"Not found\"\n",
    "        case 418:\n",
    "            return \"I'm a teapot\"\n",
    "\n",
    "        # If an exact match is not confirmed, this last case will be used if provided\n",
    "        case _:\n",
    "            return \"Something's wrong with the internet\"\n",
    "\n",
    "\n",
    "return \n",
    "\n",
    "# Call the function and store the result in a variable\n",
    "result = add(5, 10)\n",
    "\n",
    "# Print the result\n",
    "print(result)"
   ]
  },
  {
   "cell_type": "code",
   "execution_count": null,
   "id": "04af39d8",
   "metadata": {},
   "outputs": [],
   "source": []
  },
  {
   "cell_type": "code",
   "execution_count": null,
   "id": "b5c00261",
   "metadata": {},
   "outputs": [],
   "source": [
    "def approach_choice(status):\n",
    "    match status:\n",
    "        case A:\n",
    "            return status\n",
    "        case B:\n",
    "            return merchant\n",
    "        case 418:\n",
    "            return \"I'm a teapot\"\n",
    "\n",
    "        # If an exact match is not confirmed, this last case will be used if provided\n",
    "        case _:\n",
    "            return \"Something's wrong with the internet\""
   ]
  },
  {
   "cell_type": "code",
   "execution_count": null,
   "id": "c75e9f58",
   "metadata": {},
   "outputs": [],
   "source": [
    "# Define the function with two parameters\n",
    "def add(num1, num2):\n",
    "# Return the sum of num1 and num2\n",
    "return num1 + num2\n",
    "\n",
    "# Call the function and store the result in a variable\n",
    "result = add(5, 10)\n",
    "\n",
    "# Print the result\n",
    "print(result)"
   ]
  },
  {
   "cell_type": "code",
   "execution_count": null,
   "id": "af720d0b",
   "metadata": {},
   "outputs": [],
   "source": []
  },
  {
   "cell_type": "code",
   "execution_count": null,
   "id": "16330e81",
   "metadata": {},
   "outputs": [],
   "source": []
  },
  {
   "cell_type": "code",
   "execution_count": null,
   "id": "fb8d92e0",
   "metadata": {},
   "outputs": [],
   "source": []
  }
 ],
 "metadata": {
  "kernelspec": {
   "display_name": "Python 3 (ipykernel)",
   "language": "python",
   "name": "python3"
  },
  "language_info": {
   "codemirror_mode": {
    "name": "ipython",
    "version": 3
   },
   "file_extension": ".py",
   "mimetype": "text/x-python",
   "name": "python",
   "nbconvert_exporter": "python",
   "pygments_lexer": "ipython3",
   "version": "3.7.13"
  }
 },
 "nbformat": 4,
 "nbformat_minor": 5
}
